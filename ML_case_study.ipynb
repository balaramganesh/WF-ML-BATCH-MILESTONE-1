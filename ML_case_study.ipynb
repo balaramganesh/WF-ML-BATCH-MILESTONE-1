{
 "metadata": {
  "language_info": {
   "codemirror_mode": {
    "name": "ipython",
    "version": 3
   },
   "file_extension": ".py",
   "mimetype": "text/x-python",
   "name": "python",
   "nbconvert_exporter": "python",
   "pygments_lexer": "ipython3",
   "version": "3.8.3-final"
  },
  "orig_nbformat": 2,
  "kernelspec": {
   "name": "python_defaultSpec_1598932827276",
   "display_name": "Python 3.8.3 64-bit ('base': conda)"
  }
 },
 "nbformat": 4,
 "nbformat_minor": 2,
 "cells": [
  {
   "cell_type": "code",
   "execution_count": 70,
   "metadata": {},
   "outputs": [
    {
     "output_type": "display_data",
     "data": {
      "text/plain": "<IPython.core.display.HTML object>",
      "text/html": "<style>.container {width: 98% !important; }</style>"
     },
     "metadata": {}
    }
   ],
   "source": [
    "import pandas as pd\n",
    "from pandas_profiling import ProfileReport\n",
    "from statsmodels.stats.outliers_influence import variance_inflation_factor\n",
    "import sweetviz as sv\n",
    "import warnings\n",
    "warnings.filterwarnings('ignore')\n",
    "import numpy as np\n",
    "import seaborn as sns\n",
    "import matplotlib.pyplot as plt\n",
    "%matplotlib inline\n",
    "pd.options.display.float_format = '{:.2f}'.format\n",
    "from IPython.core.display import display,HTML\n",
    "display(HTML(\"<style>.container {width: 98% !important; }</style>\"))\n",
    "plt.style.use('ggplot')\n",
    "plt.rcParams['figure.figsize'] = [10,10]\n",
    "pd.set_option('display.max_columns' ,500)\n",
    "pd.set_option('display.max_rows' ,500)"
   ]
  },
  {
   "cell_type": "code",
   "execution_count": 121,
   "metadata": {},
   "outputs": [],
   "source": [
    "data = pd.read_excel('A:\\Wells Fargo\\Learning and Development\\ML Stack\\ML Case Study.xlsx')\n",
    "#data.dtypes"
   ]
  },
  {
   "cell_type": "code",
   "execution_count": 94,
   "metadata": {},
   "outputs": [
    {
     "output_type": "execute_result",
     "data": {
      "text/plain": "   Experience  Income  CCAvg  Mortgage  Personal Loan  Securities Account  \\\n0           1      49   1.60         0              0                   1   \n1          19      34   1.50         0              0                   1   \n2          15      11   1.00         0              0                   0   \n3           9     100   2.70         0              0                   0   \n4           8      45   1.00         0              0                   0   \n\n   CD Account  Online  CreditCard  Education_2  Education_3  Family_2  \\\n0           0       0           0            0            0         0   \n1           0       0           0            0            0         0   \n2           0       0           0            0            0         0   \n3           0       0           0            1            0         0   \n4           0       0           1            1            0         0   \n\n   Family_3  Family_4  \n0         0         1  \n1         1         0  \n2         0         0  \n3         0         0  \n4         0         1  ",
      "text/html": "<div>\n<style scoped>\n    .dataframe tbody tr th:only-of-type {\n        vertical-align: middle;\n    }\n\n    .dataframe tbody tr th {\n        vertical-align: top;\n    }\n\n    .dataframe thead th {\n        text-align: right;\n    }\n</style>\n<table border=\"1\" class=\"dataframe\">\n  <thead>\n    <tr style=\"text-align: right;\">\n      <th></th>\n      <th>Experience</th>\n      <th>Income</th>\n      <th>CCAvg</th>\n      <th>Mortgage</th>\n      <th>Personal Loan</th>\n      <th>Securities Account</th>\n      <th>CD Account</th>\n      <th>Online</th>\n      <th>CreditCard</th>\n      <th>Education_2</th>\n      <th>Education_3</th>\n      <th>Family_2</th>\n      <th>Family_3</th>\n      <th>Family_4</th>\n    </tr>\n  </thead>\n  <tbody>\n    <tr>\n      <th>0</th>\n      <td>1</td>\n      <td>49</td>\n      <td>1.60</td>\n      <td>0</td>\n      <td>0</td>\n      <td>1</td>\n      <td>0</td>\n      <td>0</td>\n      <td>0</td>\n      <td>0</td>\n      <td>0</td>\n      <td>0</td>\n      <td>0</td>\n      <td>1</td>\n    </tr>\n    <tr>\n      <th>1</th>\n      <td>19</td>\n      <td>34</td>\n      <td>1.50</td>\n      <td>0</td>\n      <td>0</td>\n      <td>1</td>\n      <td>0</td>\n      <td>0</td>\n      <td>0</td>\n      <td>0</td>\n      <td>0</td>\n      <td>0</td>\n      <td>1</td>\n      <td>0</td>\n    </tr>\n    <tr>\n      <th>2</th>\n      <td>15</td>\n      <td>11</td>\n      <td>1.00</td>\n      <td>0</td>\n      <td>0</td>\n      <td>0</td>\n      <td>0</td>\n      <td>0</td>\n      <td>0</td>\n      <td>0</td>\n      <td>0</td>\n      <td>0</td>\n      <td>0</td>\n      <td>0</td>\n    </tr>\n    <tr>\n      <th>3</th>\n      <td>9</td>\n      <td>100</td>\n      <td>2.70</td>\n      <td>0</td>\n      <td>0</td>\n      <td>0</td>\n      <td>0</td>\n      <td>0</td>\n      <td>0</td>\n      <td>1</td>\n      <td>0</td>\n      <td>0</td>\n      <td>0</td>\n      <td>0</td>\n    </tr>\n    <tr>\n      <th>4</th>\n      <td>8</td>\n      <td>45</td>\n      <td>1.00</td>\n      <td>0</td>\n      <td>0</td>\n      <td>0</td>\n      <td>0</td>\n      <td>0</td>\n      <td>1</td>\n      <td>1</td>\n      <td>0</td>\n      <td>0</td>\n      <td>0</td>\n      <td>1</td>\n    </tr>\n  </tbody>\n</table>\n</div>"
     },
     "metadata": {},
     "execution_count": 94
    }
   ],
   "source": [
    "data.head()"
   ]
  },
  {
   "cell_type": "code",
   "execution_count": 131,
   "metadata": {},
   "outputs": [
    {
     "output_type": "execute_result",
     "data": {
      "text/plain": "                   ID   Age  Experience  Income  ZIP Code  Family  CCAvg  \\\nPersonal Loan                                                              \n0             2512.17 45.37       20.13   66.24  93152.43    2.37   1.73   \n1             2390.65 45.07       19.84  144.75  93153.20    2.61   3.91   \n\n               Education  Mortgage  Securities Account  CD Account  Online  \\\nPersonal Loan                                                                \n0                   1.84     51.79                0.10        0.04    0.60   \n1                   2.23    100.85                0.12        0.29    0.61   \n\n               CreditCard  \nPersonal Loan              \n0                    0.29  \n1                    0.30  ",
      "text/html": "<div>\n<style scoped>\n    .dataframe tbody tr th:only-of-type {\n        vertical-align: middle;\n    }\n\n    .dataframe tbody tr th {\n        vertical-align: top;\n    }\n\n    .dataframe thead th {\n        text-align: right;\n    }\n</style>\n<table border=\"1\" class=\"dataframe\">\n  <thead>\n    <tr style=\"text-align: right;\">\n      <th></th>\n      <th>ID</th>\n      <th>Age</th>\n      <th>Experience</th>\n      <th>Income</th>\n      <th>ZIP Code</th>\n      <th>Family</th>\n      <th>CCAvg</th>\n      <th>Education</th>\n      <th>Mortgage</th>\n      <th>Securities Account</th>\n      <th>CD Account</th>\n      <th>Online</th>\n      <th>CreditCard</th>\n    </tr>\n    <tr>\n      <th>Personal Loan</th>\n      <th></th>\n      <th></th>\n      <th></th>\n      <th></th>\n      <th></th>\n      <th></th>\n      <th></th>\n      <th></th>\n      <th></th>\n      <th></th>\n      <th></th>\n      <th></th>\n      <th></th>\n    </tr>\n  </thead>\n  <tbody>\n    <tr>\n      <th>0</th>\n      <td>2512.17</td>\n      <td>45.37</td>\n      <td>20.13</td>\n      <td>66.24</td>\n      <td>93152.43</td>\n      <td>2.37</td>\n      <td>1.73</td>\n      <td>1.84</td>\n      <td>51.79</td>\n      <td>0.10</td>\n      <td>0.04</td>\n      <td>0.60</td>\n      <td>0.29</td>\n    </tr>\n    <tr>\n      <th>1</th>\n      <td>2390.65</td>\n      <td>45.07</td>\n      <td>19.84</td>\n      <td>144.75</td>\n      <td>93153.20</td>\n      <td>2.61</td>\n      <td>3.91</td>\n      <td>2.23</td>\n      <td>100.85</td>\n      <td>0.12</td>\n      <td>0.29</td>\n      <td>0.61</td>\n      <td>0.30</td>\n    </tr>\n  </tbody>\n</table>\n</div>"
     },
     "metadata": {},
     "execution_count": 131
    }
   ],
   "source": [
    "#pd.pivot_table(data,index='education',columns='Personal Loan')\n",
    "data.groupby(['Personal Loan']).mean()"
   ]
  },
  {
   "cell_type": "code",
   "execution_count": 91,
   "metadata": {},
   "outputs": [
    {
     "output_type": "execute_result",
     "data": {
      "text/plain": "ID                    5000\nAge                     45\nExperience              47\nIncome                 162\nZIP Code               467\nFamily                   4\nCCAvg                  108\nEducation                3\nMortgage               347\nPersonal Loan            2\nSecurities Account       2\nCD Account               2\nOnline                   2\nCreditCard               2\ndtype: int64"
     },
     "metadata": {},
     "execution_count": 91
    }
   ],
   "source": [
    "#Number of unique in each column\n",
    "data.nunique()"
   ]
  },
  {
   "cell_type": "code",
   "execution_count": 89,
   "metadata": {},
   "outputs": [
    {
     "output_type": "execute_result",
     "data": {
      "text/plain": "3462"
     },
     "metadata": {},
     "execution_count": 89
    }
   ],
   "source": [
    "#Number of people with zero mortgage\n",
    "len(data[data.Mortgage == 0])"
   ]
  },
  {
   "cell_type": "code",
   "execution_count": 90,
   "metadata": {},
   "outputs": [
    {
     "output_type": "execute_result",
     "data": {
      "text/plain": "106"
     },
     "metadata": {},
     "execution_count": 90
    }
   ],
   "source": [
    "#Number of people with zero credit card spending per month\n",
    "len(data[data.CCAvg == 0])"
   ]
  },
  {
   "cell_type": "code",
   "execution_count": 120,
   "metadata": {
    "tags": []
   },
   "outputs": [
    {
     "output_type": "stream",
     "name": "stdout",
     "text": "0   0.71\n1   0.29\nName: CreditCard, dtype: float64\n"
    }
   ],
   "source": [
    "#Value counts of all categorical columns\n",
    "print(data['CreditCard'].value_counts(normalize=True).sort_index())"
   ]
  },
  {
   "cell_type": "code",
   "execution_count": 72,
   "metadata": {},
   "outputs": [],
   "source": [
    "#Making Education and Family categorical variables as dummy variables. Other categorical variables have only 2 possible values - 0/1\n",
    "data = pd.get_dummies(data,columns=['Education','Family'],drop_first=True)"
   ]
  },
  {
   "cell_type": "code",
   "execution_count": 76,
   "metadata": {
    "tags": []
   },
   "outputs": [],
   "source": [
    "#Experimenting with grouping ZIP codes\n",
    "#print(int(data['ZIP Code'].values[0]/100))\n",
    "#data['ZIP Code'].to_csv('zip_code.csv')\n",
    "#new_zip = []\n",
    "#for i in data['ZIP Code'].values :\n",
    "#    new_zip.append(int(i/100))\n",
    "#new_zip\n",
    "#data['ZIP Code'] = new_zip\n",
    "#data['ZIP Code'].nunique()"
   ]
  },
  {
   "cell_type": "code",
   "execution_count": 21,
   "metadata": {
    "tags": []
   },
   "outputs": [
    {
     "output_type": "stream",
     "name": "stderr",
     "text": "Summarize dataset: 100%|██████████| 28/28 [00:28<00:00,  1.02s/it, Completed]\nGenerate report structure: 100%|██████████| 1/1 [00:06<00:00,  6.61s/it]\nRender HTML: 100%|██████████| 1/1 [00:02<00:00,  2.75s/it]\nExport report to file: 100%|██████████| 1/1 [00:00<00:00, 55.84it/s]\n"
    }
   ],
   "source": [
    "Profile = ProfileReport(data)\n",
    "Profile.to_file(\"Data_Profile_Report.html\")"
   ]
  },
  {
   "cell_type": "code",
   "execution_count": 75,
   "metadata": {},
   "outputs": [
    {
     "output_type": "execute_result",
     "data": {
      "text/plain": "Index(['Experience', 'Income', 'CCAvg', 'Mortgage', 'Personal Loan',\n       'Securities Account', 'CD Account', 'Online', 'CreditCard',\n       'Education_2', 'Education_3', 'Family_2', 'Family_3', 'Family_4'],\n      dtype='object')"
     },
     "metadata": {},
     "execution_count": 75
    }
   ],
   "source": [
    "data.columns"
   ]
  },
  {
   "cell_type": "code",
   "execution_count": 74,
   "metadata": {},
   "outputs": [],
   "source": [
    "data.drop(columns=['ID','Age','ZIP Code'],inplace=True)"
   ]
  },
  {
   "cell_type": "code",
   "execution_count": 76,
   "metadata": {},
   "outputs": [
    {
     "output_type": "execute_result",
     "data": {
      "text/plain": "               feature  VIF\n0           Experience 3.17\n1               Income 6.32\n2                CCAvg 3.84\n3             Mortgage 1.37\n4        Personal Loan 1.68\n5   Securities Account 1.26\n6           CD Account 1.52\n7               Online 2.35\n8           CreditCard 1.53\n9          Education_2 1.63\n10         Education_3 1.60\n11            Family_2 1.72\n12            Family_3 1.54\n13            Family_4 1.62",
      "text/html": "<div>\n<style scoped>\n    .dataframe tbody tr th:only-of-type {\n        vertical-align: middle;\n    }\n\n    .dataframe tbody tr th {\n        vertical-align: top;\n    }\n\n    .dataframe thead th {\n        text-align: right;\n    }\n</style>\n<table border=\"1\" class=\"dataframe\">\n  <thead>\n    <tr style=\"text-align: right;\">\n      <th></th>\n      <th>feature</th>\n      <th>VIF</th>\n    </tr>\n  </thead>\n  <tbody>\n    <tr>\n      <th>0</th>\n      <td>Experience</td>\n      <td>3.17</td>\n    </tr>\n    <tr>\n      <th>1</th>\n      <td>Income</td>\n      <td>6.32</td>\n    </tr>\n    <tr>\n      <th>2</th>\n      <td>CCAvg</td>\n      <td>3.84</td>\n    </tr>\n    <tr>\n      <th>3</th>\n      <td>Mortgage</td>\n      <td>1.37</td>\n    </tr>\n    <tr>\n      <th>4</th>\n      <td>Personal Loan</td>\n      <td>1.68</td>\n    </tr>\n    <tr>\n      <th>5</th>\n      <td>Securities Account</td>\n      <td>1.26</td>\n    </tr>\n    <tr>\n      <th>6</th>\n      <td>CD Account</td>\n      <td>1.52</td>\n    </tr>\n    <tr>\n      <th>7</th>\n      <td>Online</td>\n      <td>2.35</td>\n    </tr>\n    <tr>\n      <th>8</th>\n      <td>CreditCard</td>\n      <td>1.53</td>\n    </tr>\n    <tr>\n      <th>9</th>\n      <td>Education_2</td>\n      <td>1.63</td>\n    </tr>\n    <tr>\n      <th>10</th>\n      <td>Education_3</td>\n      <td>1.60</td>\n    </tr>\n    <tr>\n      <th>11</th>\n      <td>Family_2</td>\n      <td>1.72</td>\n    </tr>\n    <tr>\n      <th>12</th>\n      <td>Family_3</td>\n      <td>1.54</td>\n    </tr>\n    <tr>\n      <th>13</th>\n      <td>Family_4</td>\n      <td>1.62</td>\n    </tr>\n  </tbody>\n</table>\n</div>"
     },
     "metadata": {},
     "execution_count": 76
    }
   ],
   "source": [
    "vif = pd.DataFrame()\n",
    "vif[\"feature\"] = data.columns\n",
    "vif[\"VIF\"] = [variance_inflation_factor(data.values,i) for i in range(data.shape[1])]\n",
    "vif"
   ]
  },
  {
   "cell_type": "code",
   "execution_count": 45,
   "metadata": {},
   "outputs": [],
   "source": [
    "datacent = pd.DataFrame()\n",
    "for i in range(len(data.columns)-1) :\n",
    "    datacent[data.columns[i]] =  data[data.columns[i]].values - np.mean(data[data.columns[i]].values)  \n",
    "datacent[data.columns[len(data.columns)-1]] = data[data.columns[len(data.columns)-1]].values\n",
    "vif[\"VIF after centralizing\"] = [variance_inflation_factor(datacent.values,i) for i in range(datacent.shape[1])]"
   ]
  },
  {
   "cell_type": "code",
   "execution_count": 46,
   "metadata": {},
   "outputs": [
    {
     "output_type": "execute_result",
     "data": {
      "text/plain": "               feature  VIF  VIF after centralizing\n0           Experience 3.44                    1.01\n1               Income 6.23                    2.21\n2               Family 4.10                    1.06\n3                CCAvg 3.84                    1.73\n4            Education 4.44                    1.12\n5             Mortgage 1.37                    1.05\n6        Personal Loan 1.61                    1.62\n7   Securities Account 1.26                    1.14\n8           CD Account 1.53                    1.40\n9               Online 2.43                    1.04\n10          CreditCard 1.55                    1.08",
      "text/html": "<div>\n<style scoped>\n    .dataframe tbody tr th:only-of-type {\n        vertical-align: middle;\n    }\n\n    .dataframe tbody tr th {\n        vertical-align: top;\n    }\n\n    .dataframe thead th {\n        text-align: right;\n    }\n</style>\n<table border=\"1\" class=\"dataframe\">\n  <thead>\n    <tr style=\"text-align: right;\">\n      <th></th>\n      <th>feature</th>\n      <th>VIF</th>\n      <th>VIF after centralizing</th>\n    </tr>\n  </thead>\n  <tbody>\n    <tr>\n      <th>0</th>\n      <td>Experience</td>\n      <td>3.44</td>\n      <td>1.01</td>\n    </tr>\n    <tr>\n      <th>1</th>\n      <td>Income</td>\n      <td>6.23</td>\n      <td>2.21</td>\n    </tr>\n    <tr>\n      <th>2</th>\n      <td>Family</td>\n      <td>4.10</td>\n      <td>1.06</td>\n    </tr>\n    <tr>\n      <th>3</th>\n      <td>CCAvg</td>\n      <td>3.84</td>\n      <td>1.73</td>\n    </tr>\n    <tr>\n      <th>4</th>\n      <td>Education</td>\n      <td>4.44</td>\n      <td>1.12</td>\n    </tr>\n    <tr>\n      <th>5</th>\n      <td>Mortgage</td>\n      <td>1.37</td>\n      <td>1.05</td>\n    </tr>\n    <tr>\n      <th>6</th>\n      <td>Personal Loan</td>\n      <td>1.61</td>\n      <td>1.62</td>\n    </tr>\n    <tr>\n      <th>7</th>\n      <td>Securities Account</td>\n      <td>1.26</td>\n      <td>1.14</td>\n    </tr>\n    <tr>\n      <th>8</th>\n      <td>CD Account</td>\n      <td>1.53</td>\n      <td>1.40</td>\n    </tr>\n    <tr>\n      <th>9</th>\n      <td>Online</td>\n      <td>2.43</td>\n      <td>1.04</td>\n    </tr>\n    <tr>\n      <th>10</th>\n      <td>CreditCard</td>\n      <td>1.55</td>\n      <td>1.08</td>\n    </tr>\n  </tbody>\n</table>\n</div>"
     },
     "metadata": {},
     "execution_count": 46
    }
   ],
   "source": [
    "vif"
   ]
  },
  {
   "cell_type": "code",
   "execution_count": 11,
   "metadata": {},
   "outputs": [
    {
     "output_type": "execute_result",
     "data": {
      "text/plain": "                    Experience  Income  CCAvg  Mortgage  Personal Loan  \\\nExperience                1.00   -0.05  -0.05     -0.01          -0.01   \nIncome                   -0.05    1.00   0.65      0.21           0.50   \nCCAvg                    -0.05    0.65   1.00      0.11           0.37   \nMortgage                 -0.01    0.21   0.11      1.00           0.14   \nPersonal Loan            -0.01    0.50   0.37      0.14           1.00   \nSecurities Account       -0.00   -0.00   0.02     -0.01           0.02   \nCD Account                0.01    0.17   0.14      0.09           0.32   \nOnline                    0.01    0.01  -0.00     -0.01           0.01   \nCreditCard                0.01   -0.00  -0.01     -0.01           0.00   \nEducation_2              -0.02   -0.13  -0.09     -0.03           0.07   \nEducation_3               0.02   -0.11  -0.08     -0.01           0.09   \nFamily_2                  0.01    0.13   0.10      0.04          -0.03   \nFamily_3                  0.03   -0.08  -0.07     -0.01           0.06   \nFamily_4                 -0.07   -0.14  -0.09     -0.02           0.03   \n\n                    Securities Account  CD Account  Online  CreditCard  \\\nExperience                       -0.00        0.01    0.01        0.01   \nIncome                           -0.00        0.17    0.01       -0.00   \nCCAvg                             0.02        0.14   -0.00       -0.01   \nMortgage                         -0.01        0.09   -0.01       -0.01   \nPersonal Loan                     0.02        0.32    0.01        0.00   \nSecurities Account                1.00        0.32    0.01       -0.02   \nCD Account                        0.32        1.00    0.18        0.28   \nOnline                            0.01        0.18    1.00        0.00   \nCreditCard                       -0.02        0.28    0.00        1.00   \nEducation_2                       0.01        0.01    0.02       -0.01   \nEducation_3                      -0.01        0.01   -0.02       -0.00   \nFamily_2                         -0.00       -0.02   -0.02        0.02   \nFamily_3                          0.00        0.04    0.01       -0.01   \nFamily_4                          0.02       -0.01    0.01        0.01   \n\n                    Education_2  Education_3  Family_2  Family_3  Family_4  \nExperience                -0.02         0.02      0.01      0.03     -0.07  \nIncome                    -0.13        -0.11      0.13     -0.08     -0.14  \nCCAvg                     -0.09        -0.08      0.10     -0.07     -0.09  \nMortgage                  -0.03        -0.01      0.04     -0.01     -0.02  \nPersonal Loan              0.07         0.09     -0.03      0.06      0.03  \nSecurities Account         0.01        -0.01     -0.00      0.00      0.02  \nCD Account                 0.01         0.01     -0.02      0.04     -0.01  \nOnline                     0.02        -0.02     -0.02      0.01      0.01  \nCreditCard                -0.01        -0.00      0.02     -0.01      0.01  \nEducation_2                1.00        -0.41     -0.10      0.11      0.09  \nEducation_3               -0.41         1.00     -0.01     -0.03      0.01  \nFamily_2                  -0.10        -0.01      1.00     -0.30     -0.34  \nFamily_3                   0.11        -0.03     -0.30      1.00     -0.29  \nFamily_4                   0.09         0.01     -0.34     -0.29      1.00  ",
      "text/html": "<div>\n<style scoped>\n    .dataframe tbody tr th:only-of-type {\n        vertical-align: middle;\n    }\n\n    .dataframe tbody tr th {\n        vertical-align: top;\n    }\n\n    .dataframe thead th {\n        text-align: right;\n    }\n</style>\n<table border=\"1\" class=\"dataframe\">\n  <thead>\n    <tr style=\"text-align: right;\">\n      <th></th>\n      <th>Experience</th>\n      <th>Income</th>\n      <th>CCAvg</th>\n      <th>Mortgage</th>\n      <th>Personal Loan</th>\n      <th>Securities Account</th>\n      <th>CD Account</th>\n      <th>Online</th>\n      <th>CreditCard</th>\n      <th>Education_2</th>\n      <th>Education_3</th>\n      <th>Family_2</th>\n      <th>Family_3</th>\n      <th>Family_4</th>\n    </tr>\n  </thead>\n  <tbody>\n    <tr>\n      <th>Experience</th>\n      <td>1.00</td>\n      <td>-0.05</td>\n      <td>-0.05</td>\n      <td>-0.01</td>\n      <td>-0.01</td>\n      <td>-0.00</td>\n      <td>0.01</td>\n      <td>0.01</td>\n      <td>0.01</td>\n      <td>-0.02</td>\n      <td>0.02</td>\n      <td>0.01</td>\n      <td>0.03</td>\n      <td>-0.07</td>\n    </tr>\n    <tr>\n      <th>Income</th>\n      <td>-0.05</td>\n      <td>1.00</td>\n      <td>0.65</td>\n      <td>0.21</td>\n      <td>0.50</td>\n      <td>-0.00</td>\n      <td>0.17</td>\n      <td>0.01</td>\n      <td>-0.00</td>\n      <td>-0.13</td>\n      <td>-0.11</td>\n      <td>0.13</td>\n      <td>-0.08</td>\n      <td>-0.14</td>\n    </tr>\n    <tr>\n      <th>CCAvg</th>\n      <td>-0.05</td>\n      <td>0.65</td>\n      <td>1.00</td>\n      <td>0.11</td>\n      <td>0.37</td>\n      <td>0.02</td>\n      <td>0.14</td>\n      <td>-0.00</td>\n      <td>-0.01</td>\n      <td>-0.09</td>\n      <td>-0.08</td>\n      <td>0.10</td>\n      <td>-0.07</td>\n      <td>-0.09</td>\n    </tr>\n    <tr>\n      <th>Mortgage</th>\n      <td>-0.01</td>\n      <td>0.21</td>\n      <td>0.11</td>\n      <td>1.00</td>\n      <td>0.14</td>\n      <td>-0.01</td>\n      <td>0.09</td>\n      <td>-0.01</td>\n      <td>-0.01</td>\n      <td>-0.03</td>\n      <td>-0.01</td>\n      <td>0.04</td>\n      <td>-0.01</td>\n      <td>-0.02</td>\n    </tr>\n    <tr>\n      <th>Personal Loan</th>\n      <td>-0.01</td>\n      <td>0.50</td>\n      <td>0.37</td>\n      <td>0.14</td>\n      <td>1.00</td>\n      <td>0.02</td>\n      <td>0.32</td>\n      <td>0.01</td>\n      <td>0.00</td>\n      <td>0.07</td>\n      <td>0.09</td>\n      <td>-0.03</td>\n      <td>0.06</td>\n      <td>0.03</td>\n    </tr>\n    <tr>\n      <th>Securities Account</th>\n      <td>-0.00</td>\n      <td>-0.00</td>\n      <td>0.02</td>\n      <td>-0.01</td>\n      <td>0.02</td>\n      <td>1.00</td>\n      <td>0.32</td>\n      <td>0.01</td>\n      <td>-0.02</td>\n      <td>0.01</td>\n      <td>-0.01</td>\n      <td>-0.00</td>\n      <td>0.00</td>\n      <td>0.02</td>\n    </tr>\n    <tr>\n      <th>CD Account</th>\n      <td>0.01</td>\n      <td>0.17</td>\n      <td>0.14</td>\n      <td>0.09</td>\n      <td>0.32</td>\n      <td>0.32</td>\n      <td>1.00</td>\n      <td>0.18</td>\n      <td>0.28</td>\n      <td>0.01</td>\n      <td>0.01</td>\n      <td>-0.02</td>\n      <td>0.04</td>\n      <td>-0.01</td>\n    </tr>\n    <tr>\n      <th>Online</th>\n      <td>0.01</td>\n      <td>0.01</td>\n      <td>-0.00</td>\n      <td>-0.01</td>\n      <td>0.01</td>\n      <td>0.01</td>\n      <td>0.18</td>\n      <td>1.00</td>\n      <td>0.00</td>\n      <td>0.02</td>\n      <td>-0.02</td>\n      <td>-0.02</td>\n      <td>0.01</td>\n      <td>0.01</td>\n    </tr>\n    <tr>\n      <th>CreditCard</th>\n      <td>0.01</td>\n      <td>-0.00</td>\n      <td>-0.01</td>\n      <td>-0.01</td>\n      <td>0.00</td>\n      <td>-0.02</td>\n      <td>0.28</td>\n      <td>0.00</td>\n      <td>1.00</td>\n      <td>-0.01</td>\n      <td>-0.00</td>\n      <td>0.02</td>\n      <td>-0.01</td>\n      <td>0.01</td>\n    </tr>\n    <tr>\n      <th>Education_2</th>\n      <td>-0.02</td>\n      <td>-0.13</td>\n      <td>-0.09</td>\n      <td>-0.03</td>\n      <td>0.07</td>\n      <td>0.01</td>\n      <td>0.01</td>\n      <td>0.02</td>\n      <td>-0.01</td>\n      <td>1.00</td>\n      <td>-0.41</td>\n      <td>-0.10</td>\n      <td>0.11</td>\n      <td>0.09</td>\n    </tr>\n    <tr>\n      <th>Education_3</th>\n      <td>0.02</td>\n      <td>-0.11</td>\n      <td>-0.08</td>\n      <td>-0.01</td>\n      <td>0.09</td>\n      <td>-0.01</td>\n      <td>0.01</td>\n      <td>-0.02</td>\n      <td>-0.00</td>\n      <td>-0.41</td>\n      <td>1.00</td>\n      <td>-0.01</td>\n      <td>-0.03</td>\n      <td>0.01</td>\n    </tr>\n    <tr>\n      <th>Family_2</th>\n      <td>0.01</td>\n      <td>0.13</td>\n      <td>0.10</td>\n      <td>0.04</td>\n      <td>-0.03</td>\n      <td>-0.00</td>\n      <td>-0.02</td>\n      <td>-0.02</td>\n      <td>0.02</td>\n      <td>-0.10</td>\n      <td>-0.01</td>\n      <td>1.00</td>\n      <td>-0.30</td>\n      <td>-0.34</td>\n    </tr>\n    <tr>\n      <th>Family_3</th>\n      <td>0.03</td>\n      <td>-0.08</td>\n      <td>-0.07</td>\n      <td>-0.01</td>\n      <td>0.06</td>\n      <td>0.00</td>\n      <td>0.04</td>\n      <td>0.01</td>\n      <td>-0.01</td>\n      <td>0.11</td>\n      <td>-0.03</td>\n      <td>-0.30</td>\n      <td>1.00</td>\n      <td>-0.29</td>\n    </tr>\n    <tr>\n      <th>Family_4</th>\n      <td>-0.07</td>\n      <td>-0.14</td>\n      <td>-0.09</td>\n      <td>-0.02</td>\n      <td>0.03</td>\n      <td>0.02</td>\n      <td>-0.01</td>\n      <td>0.01</td>\n      <td>0.01</td>\n      <td>0.09</td>\n      <td>0.01</td>\n      <td>-0.34</td>\n      <td>-0.29</td>\n      <td>1.00</td>\n    </tr>\n  </tbody>\n</table>\n</div>"
     },
     "metadata": {},
     "execution_count": 11
    }
   ],
   "source": [
    "data.corr()"
   ]
  },
  {
   "cell_type": "code",
   "execution_count": 77,
   "metadata": {},
   "outputs": [],
   "source": [
    "x = data.drop(columns='Personal Loan')\n",
    "y = data['Personal Loan']"
   ]
  },
  {
   "cell_type": "code",
   "execution_count": 78,
   "metadata": {},
   "outputs": [],
   "source": [
    "Algo = []\n",
    "train = []\n",
    "test = []\n",
    "recall = []\n",
    "roc = []"
   ]
  },
  {
   "cell_type": "code",
   "execution_count": 79,
   "metadata": {},
   "outputs": [],
   "source": [
    "from sklearn.linear_model import LogisticRegression\n",
    "from sklearn.naive_bayes import GaussianNB\n",
    "from sklearn.svm import SVC\n",
    "from sklearn.neighbors import KNeighborsClassifier\n",
    "from sklearn.tree import DecisionTreeClassifier\n",
    "from sklearn.ensemble import RandomForestClassifier,AdaBoostClassifier,BaggingClassifier,GradientBoostingClassifier\n",
    "from sklearn.model_selection import train_test_split\n",
    "from sklearn.metrics import recall_score,roc_auc_score"
   ]
  },
  {
   "cell_type": "code",
   "execution_count": 80,
   "metadata": {},
   "outputs": [],
   "source": [
    "xtrain,xtest,ytrain,ytest = train_test_split(x,y,test_size=0.3,random_state=5)"
   ]
  },
  {
   "cell_type": "code",
   "execution_count": 81,
   "metadata": {},
   "outputs": [],
   "source": [
    "#Logistic Regression\n",
    "classifier = LogisticRegression()\n",
    "classifier.fit(xtrain,ytrain)\n",
    "ypredict = classifier.predict(xtest)\n",
    "Algo.append('Logistic Regression')\n",
    "train.append(classifier.score(xtrain,ytrain))\n",
    "test.append(classifier.score(xtest,ytest))\n",
    "recall.append(recall_score(ypredict,ytest))\n",
    "roc.append(roc_auc_score(ypredict,ytest))"
   ]
  },
  {
   "cell_type": "code",
   "execution_count": 82,
   "metadata": {},
   "outputs": [],
   "source": [
    "#Naive Bayes\n",
    "classifier = GaussianNB()\n",
    "classifier.fit(xtrain,ytrain)\n",
    "ypredict = classifier.predict(xtest)\n",
    "Algo.append('Naive Bayes')\n",
    "train.append(classifier.score(xtrain,ytrain))\n",
    "test.append(classifier.score(xtest,ytest))\n",
    "recall.append(recall_score(ypredict,ytest))\n",
    "roc.append(roc_auc_score(ypredict,ytest))"
   ]
  },
  {
   "cell_type": "code",
   "execution_count": 83,
   "metadata": {},
   "outputs": [],
   "source": [
    "#SVM\n",
    "classifier = SVC()\n",
    "classifier.fit(xtrain,ytrain)\n",
    "ypredict = classifier.predict(xtest)\n",
    "Algo.append('SVM')\n",
    "train.append(classifier.score(xtrain,ytrain))\n",
    "test.append(classifier.score(xtest,ytest))\n",
    "recall.append(recall_score(ypredict,ytest))\n",
    "roc.append(roc_auc_score(ypredict,ytest))"
   ]
  },
  {
   "cell_type": "code",
   "execution_count": 84,
   "metadata": {},
   "outputs": [],
   "source": [
    "#KNearest Neighbors\n",
    "classifier = KNeighborsClassifier()\n",
    "classifier.fit(xtrain,ytrain)\n",
    "ypredict = classifier.predict(xtest)\n",
    "Algo.append('K Nearest Neighbors')\n",
    "train.append(classifier.score(xtrain,ytrain))\n",
    "test.append(classifier.score(xtest,ytest))\n",
    "recall.append(recall_score(ypredict,ytest))\n",
    "roc.append(roc_auc_score(ypredict,ytest))"
   ]
  },
  {
   "cell_type": "code",
   "execution_count": 85,
   "metadata": {},
   "outputs": [],
   "source": [
    "#Decision Tree with gini\n",
    "classifier = DecisionTreeClassifier(criterion='gini',max_depth=3,random_state=5)\n",
    "classifier.fit(xtrain,ytrain)\n",
    "ypredict = classifier.predict(xtest)\n",
    "Algo.append('Decision Tree with gini')\n",
    "train.append(classifier.score(xtrain,ytrain))\n",
    "test.append(classifier.score(xtest,ytest))\n",
    "recall.append(recall_score(ypredict,ytest))\n",
    "roc.append(roc_auc_score(ypredict,ytest))"
   ]
  },
  {
   "cell_type": "code",
   "execution_count": 86,
   "metadata": {},
   "outputs": [],
   "source": [
    "#Decision Tree with entropy\n",
    "classifier = DecisionTreeClassifier(criterion='entropy',max_depth=3,random_state=5)\n",
    "classifier.fit(xtrain,ytrain)\n",
    "ypredict = classifier.predict(xtest)\n",
    "Algo.append('Decision Tree with entropy')\n",
    "train.append(classifier.score(xtrain,ytrain))\n",
    "test.append(classifier.score(xtest,ytest))\n",
    "recall.append(recall_score(ypredict,ytest))\n",
    "roc.append(roc_auc_score(ypredict,ytest))"
   ]
  },
  {
   "cell_type": "code",
   "execution_count": 87,
   "metadata": {},
   "outputs": [],
   "source": [
    "#Random Forest\n",
    "classifier = RandomForestClassifier(criterion='entropy',n_estimators=100,random_state=5,bootstrap=True)\n",
    "classifier.fit(xtrain,ytrain)\n",
    "ypredict = classifier.predict(xtest)\n",
    "Algo.append('Random Forest')\n",
    "train.append(classifier.score(xtrain,ytrain))\n",
    "test.append(classifier.score(xtest,ytest))\n",
    "recall.append(recall_score(ypredict,ytest))\n",
    "roc.append(roc_auc_score(ypredict,ytest))"
   ]
  },
  {
   "cell_type": "code",
   "execution_count": 88,
   "metadata": {},
   "outputs": [],
   "source": [
    "#Bagging Classifier\n",
    "classifier = BaggingClassifier(n_estimators=100,max_samples=0.7,bootstrap=True,oob_score=True,random_state=11)\n",
    "classifier.fit(xtrain,ytrain)\n",
    "ypredict = classifier.predict(xtest)\n",
    "Algo.append('Bagging Classifier')\n",
    "train.append(classifier.score(xtrain,ytrain))\n",
    "test.append(classifier.score(xtest,ytest))\n",
    "recall.append(recall_score(ypredict,ytest))\n",
    "roc.append(roc_auc_score(ypredict,ytest))"
   ]
  },
  {
   "cell_type": "code",
   "execution_count": 89,
   "metadata": {},
   "outputs": [],
   "source": [
    "#Adaboost Classifier\n",
    "classifier = AdaBoostClassifier(n_estimators=200,learning_rate=0.1,random_state=11)\n",
    "classifier.fit(xtrain,ytrain)\n",
    "ypredict = classifier.predict(xtest)\n",
    "Algo.append('Adaboost')\n",
    "train.append(classifier.score(xtrain,ytrain))\n",
    "test.append(classifier.score(xtest,ytest))\n",
    "recall.append(recall_score(ypredict,ytest))\n",
    "roc.append(roc_auc_score(ypredict,ytest))"
   ]
  },
  {
   "cell_type": "code",
   "execution_count": 90,
   "metadata": {},
   "outputs": [],
   "source": [
    "#GradientBoost\n",
    "classifier = GradientBoostingClassifier(n_estimators=200,random_state=11)\n",
    "classifier.fit(xtrain,ytrain)\n",
    "ypredict = classifier.predict(xtest)\n",
    "Algo.append('GradientBoost')\n",
    "train.append(classifier.score(xtrain,ytrain))\n",
    "test.append(classifier.score(xtest,ytest))\n",
    "recall.append(recall_score(ypredict,ytest))\n",
    "roc.append(roc_auc_score(ypredict,ytest))"
   ]
  },
  {
   "cell_type": "code",
   "execution_count": 91,
   "metadata": {},
   "outputs": [
    {
     "output_type": "execute_result",
     "data": {
      "text/plain": "                            Training Accuracy  Testing Accuracy  Recall  \\\nModel                                                                     \nRandom Forest                            1.00              0.99    0.99   \nGradientBoost                            1.00              0.99    0.96   \nBagging Classifier                       1.00              0.98    0.96   \nAdaboost                                 0.97              0.96    0.94   \nLogistic Regression                      0.96              0.96    0.93   \nDecision Tree with gini                  0.97              0.96    0.91   \nDecision Tree with entropy               0.96              0.95    0.81   \nSVM                                      0.91              0.90    0.58   \nK Nearest Neighbors                      0.94              0.90    0.51   \nNaive Bayes                              0.89              0.87    0.40   \n\n                            ROC AUC Score  Net Score  \nModel                                                 \nRandom Forest                        0.99       0.99  \nGradientBoost                        0.98       0.98  \nBagging Classifier                   0.97       0.97  \nAdaboost                             0.95       0.95  \nLogistic Regression                  0.94       0.95  \nDecision Tree with gini              0.94       0.94  \nDecision Tree with entropy           0.89       0.89  \nSVM                                  0.75       0.76  \nK Nearest Neighbors                  0.72       0.74  \nNaive Bayes                          0.67       0.68  ",
      "text/html": "<div>\n<style scoped>\n    .dataframe tbody tr th:only-of-type {\n        vertical-align: middle;\n    }\n\n    .dataframe tbody tr th {\n        vertical-align: top;\n    }\n\n    .dataframe thead th {\n        text-align: right;\n    }\n</style>\n<table border=\"1\" class=\"dataframe\">\n  <thead>\n    <tr style=\"text-align: right;\">\n      <th></th>\n      <th>Training Accuracy</th>\n      <th>Testing Accuracy</th>\n      <th>Recall</th>\n      <th>ROC AUC Score</th>\n      <th>Net Score</th>\n    </tr>\n    <tr>\n      <th>Model</th>\n      <th></th>\n      <th></th>\n      <th></th>\n      <th></th>\n      <th></th>\n    </tr>\n  </thead>\n  <tbody>\n    <tr>\n      <th>Random Forest</th>\n      <td>1.00</td>\n      <td>0.99</td>\n      <td>0.99</td>\n      <td>0.99</td>\n      <td>0.99</td>\n    </tr>\n    <tr>\n      <th>GradientBoost</th>\n      <td>1.00</td>\n      <td>0.99</td>\n      <td>0.96</td>\n      <td>0.98</td>\n      <td>0.98</td>\n    </tr>\n    <tr>\n      <th>Bagging Classifier</th>\n      <td>1.00</td>\n      <td>0.98</td>\n      <td>0.96</td>\n      <td>0.97</td>\n      <td>0.97</td>\n    </tr>\n    <tr>\n      <th>Adaboost</th>\n      <td>0.97</td>\n      <td>0.96</td>\n      <td>0.94</td>\n      <td>0.95</td>\n      <td>0.95</td>\n    </tr>\n    <tr>\n      <th>Logistic Regression</th>\n      <td>0.96</td>\n      <td>0.96</td>\n      <td>0.93</td>\n      <td>0.94</td>\n      <td>0.95</td>\n    </tr>\n    <tr>\n      <th>Decision Tree with gini</th>\n      <td>0.97</td>\n      <td>0.96</td>\n      <td>0.91</td>\n      <td>0.94</td>\n      <td>0.94</td>\n    </tr>\n    <tr>\n      <th>Decision Tree with entropy</th>\n      <td>0.96</td>\n      <td>0.95</td>\n      <td>0.81</td>\n      <td>0.89</td>\n      <td>0.89</td>\n    </tr>\n    <tr>\n      <th>SVM</th>\n      <td>0.91</td>\n      <td>0.90</td>\n      <td>0.58</td>\n      <td>0.75</td>\n      <td>0.76</td>\n    </tr>\n    <tr>\n      <th>K Nearest Neighbors</th>\n      <td>0.94</td>\n      <td>0.90</td>\n      <td>0.51</td>\n      <td>0.72</td>\n      <td>0.74</td>\n    </tr>\n    <tr>\n      <th>Naive Bayes</th>\n      <td>0.89</td>\n      <td>0.87</td>\n      <td>0.40</td>\n      <td>0.67</td>\n      <td>0.68</td>\n    </tr>\n  </tbody>\n</table>\n</div>"
     },
     "metadata": {},
     "execution_count": 91
    }
   ],
   "source": [
    "results = pd.DataFrame()\n",
    "roc_w = 0.5\n",
    "recall_w = 0.2\n",
    "test_w = 0.2\n",
    "train_w = 0.1\n",
    "results['Model'] = Algo\n",
    "results['Training Accuracy'] = train\n",
    "results['Testing Accuracy'] = test\n",
    "results['Recall'] = recall\n",
    "results['ROC AUC Score'] = roc\n",
    "results['Net Score'] = [roc_w*roc[i]+recall_w*recall[i]+test_w*test[i]+train_w*train[i] for i in range(len(Algo))]\n",
    "results = results.set_index('Model')\n",
    "#results\n",
    "results.sort_values(by=['Net Score'],ascending=False)"
   ]
  },
  {
   "cell_type": "code",
   "execution_count": 92,
   "metadata": {},
   "outputs": [],
   "source": [
    "#Selected Model: Random Forest\n",
    "import pickle\n",
    "classifier = RandomForestClassifier(criterion='entropy',n_estimators=100,random_state=5,bootstrap=True)\n",
    "classifier.fit(xtrain,ytrain)\n",
    "pickle.dump(classifier, open('model.pkl','wb'))"
   ]
  },
  {
   "cell_type": "code",
   "execution_count": 93,
   "metadata": {},
   "outputs": [
    {
     "output_type": "execute_result",
     "data": {
      "text/plain": "   Experience  Income  CCAvg  Mortgage  Securities Account  CD Account  \\\n0           1      49   1.60         0                   1           0   \n1          19      34   1.50         0                   1           0   \n2          15      11   1.00         0                   0           0   \n3           9     100   2.70         0                   0           0   \n4           8      45   1.00         0                   0           0   \n\n   Online  CreditCard  Education_2  Education_3  Family_2  Family_3  Family_4  \n0       0           0            0            0         0         0         1  \n1       0           0            0            0         0         1         0  \n2       0           0            0            0         0         0         0  \n3       0           0            1            0         0         0         0  \n4       0           1            1            0         0         0         1  ",
      "text/html": "<div>\n<style scoped>\n    .dataframe tbody tr th:only-of-type {\n        vertical-align: middle;\n    }\n\n    .dataframe tbody tr th {\n        vertical-align: top;\n    }\n\n    .dataframe thead th {\n        text-align: right;\n    }\n</style>\n<table border=\"1\" class=\"dataframe\">\n  <thead>\n    <tr style=\"text-align: right;\">\n      <th></th>\n      <th>Experience</th>\n      <th>Income</th>\n      <th>CCAvg</th>\n      <th>Mortgage</th>\n      <th>Securities Account</th>\n      <th>CD Account</th>\n      <th>Online</th>\n      <th>CreditCard</th>\n      <th>Education_2</th>\n      <th>Education_3</th>\n      <th>Family_2</th>\n      <th>Family_3</th>\n      <th>Family_4</th>\n    </tr>\n  </thead>\n  <tbody>\n    <tr>\n      <th>0</th>\n      <td>1</td>\n      <td>49</td>\n      <td>1.60</td>\n      <td>0</td>\n      <td>1</td>\n      <td>0</td>\n      <td>0</td>\n      <td>0</td>\n      <td>0</td>\n      <td>0</td>\n      <td>0</td>\n      <td>0</td>\n      <td>1</td>\n    </tr>\n    <tr>\n      <th>1</th>\n      <td>19</td>\n      <td>34</td>\n      <td>1.50</td>\n      <td>0</td>\n      <td>1</td>\n      <td>0</td>\n      <td>0</td>\n      <td>0</td>\n      <td>0</td>\n      <td>0</td>\n      <td>0</td>\n      <td>1</td>\n      <td>0</td>\n    </tr>\n    <tr>\n      <th>2</th>\n      <td>15</td>\n      <td>11</td>\n      <td>1.00</td>\n      <td>0</td>\n      <td>0</td>\n      <td>0</td>\n      <td>0</td>\n      <td>0</td>\n      <td>0</td>\n      <td>0</td>\n      <td>0</td>\n      <td>0</td>\n      <td>0</td>\n    </tr>\n    <tr>\n      <th>3</th>\n      <td>9</td>\n      <td>100</td>\n      <td>2.70</td>\n      <td>0</td>\n      <td>0</td>\n      <td>0</td>\n      <td>0</td>\n      <td>0</td>\n      <td>1</td>\n      <td>0</td>\n      <td>0</td>\n      <td>0</td>\n      <td>0</td>\n    </tr>\n    <tr>\n      <th>4</th>\n      <td>8</td>\n      <td>45</td>\n      <td>1.00</td>\n      <td>0</td>\n      <td>0</td>\n      <td>0</td>\n      <td>0</td>\n      <td>1</td>\n      <td>1</td>\n      <td>0</td>\n      <td>0</td>\n      <td>0</td>\n      <td>1</td>\n    </tr>\n  </tbody>\n</table>\n</div>"
     },
     "metadata": {},
     "execution_count": 93
    }
   ],
   "source": [
    "x.head()"
   ]
  },
  {
   "cell_type": "code",
   "execution_count": 101,
   "metadata": {
    "tags": []
   },
   "outputs": [
    {
     "output_type": "stream",
     "name": "stdout",
     "text": "[0]\n"
    }
   ],
   "source": [
    "print(classifier.predict([[1,\t49,\t1.60,\t0,\t1,\t0,\t0,\t0\t,0,\t0,\t0,\t0,\t1]]))"
   ]
  },
  {
   "cell_type": "code",
   "execution_count": 98,
   "metadata": {},
   "outputs": [
    {
     "output_type": "execute_result",
     "data": {
      "text/plain": "0    0\n1    0\n2    0\n3    0\n4    0\nName: Personal Loan, dtype: int64"
     },
     "metadata": {},
     "execution_count": 98
    }
   ],
   "source": [
    "y.head()"
   ]
  },
  {
   "cell_type": "code",
   "execution_count": null,
   "metadata": {},
   "outputs": [],
   "source": []
  }
 ]
}